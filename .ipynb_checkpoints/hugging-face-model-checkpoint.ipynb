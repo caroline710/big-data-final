{
 "cells": [
  {
   "cell_type": "code",
   "execution_count": 1,
   "id": "0bac3852",
   "metadata": {},
   "outputs": [
    {
     "name": "stderr",
     "output_type": "stream",
     "text": [
      "2023-12-06 02:00:53.739133: I tensorflow/core/platform/cpu_feature_guard.cc:182] This TensorFlow binary is optimized to use available CPU instructions in performance-critical operations.\n",
      "To enable the following instructions: AVX2 FMA, in other operations, rebuild TensorFlow with the appropriate compiler flags.\n"
     ]
    },
    {
     "name": "stdout",
     "output_type": "stream",
     "text": [
      "[{'label': 'LABEL_1', 'score': 0.7463672161102295}]\n"
     ]
    }
   ],
   "source": [
    "!pip install -q transformers torch\n",
    "from transformers import pipeline\n",
    "\n",
    "model_name = \"XerOpred/twitter-climate-sentiment-model\"\n",
    "classifier = pipeline('sentiment-analysis', model=model_name)\n",
    "\n",
    "text = \"some power and authority u can not spell, let alone define and wield, thas just more evidence of ur arrogant IGNORANCE same as u apply to ur climate change denial THEORY as if u know shit u do not, TOLD U DareDevil does not mean what the hell u think it does, HELL?? been there\"\n",
    "result = classifier(text)\n",
    "print(result)"
   ]
  },
  {
   "cell_type": "code",
   "execution_count": 2,
   "id": "34f09a3e",
   "metadata": {},
   "outputs": [],
   "source": [
    "from transformers import AutoModelForSequenceClassification, AutoTokenizer\n",
    "import torch\n",
    "import pandas as pd\n",
    "\n",
    "df = pd.read_csv('data/combined-usa.csv' )\n",
    "\n",
    "model_name = \"XerOpred/twitter-climate-sentiment-model\"\n",
    "tokenizer = AutoTokenizer.from_pretrained(model_name)\n",
    "model = AutoModelForSequenceClassification.from_pretrained(model_name)\n",
    "\n",
    "def sentiment_analysis(model, tokenizer, text):\n",
    "    # tokenize\n",
    "    inputs = tokenizer(text, return_tensors=\"pt\", truncation=True, max_length=512)\n",
    "    \n",
    "    # get model predictions\n",
    "    with torch.no_grad():\n",
    "        outputs = model(**inputs)\n",
    "\n",
    "    # transform output logits to probabilities using softmax\n",
    "    probabilities = torch.nn.functional.softmax(outputs.logits, dim=-1)\n",
    "\n",
    "    # get the highest probability label\n",
    "    predicted_label_idx = torch.argmax(probabilities, dim=1).item()\n",
    "    labels = model.config.id2label\n",
    "\n",
    "    return labels[predicted_label_idx], probabilities[0][predicted_label_idx].item()\n",
    "\n",
    "df['Sentiment'], df['Confidence'] = zip(*df['Content'].apply(lambda x: sentiment_analysis(model, tokenizer, str(x))))\n",
    "df.to_csv('data/distilbert-sentiment-usa.csv', index=False)\n"
   ]
  },
  {
   "cell_type": "code",
   "execution_count": null,
   "id": "03ae7c5f",
   "metadata": {},
   "outputs": [],
   "source": []
  }
 ],
 "metadata": {
  "kernelspec": {
   "display_name": "Python 3 (ipykernel)",
   "language": "python",
   "name": "python3"
  },
  "language_info": {
   "codemirror_mode": {
    "name": "ipython",
    "version": 3
   },
   "file_extension": ".py",
   "mimetype": "text/x-python",
   "name": "python",
   "nbconvert_exporter": "python",
   "pygments_lexer": "ipython3",
   "version": "3.11.4"
  }
 },
 "nbformat": 4,
 "nbformat_minor": 5
}

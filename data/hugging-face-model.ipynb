{
 "cells": [
  {
   "cell_type": "code",
   "execution_count": 2,
   "id": "2aeedaab",
   "metadata": {},
   "outputs": [
    {
     "name": "stdout",
     "output_type": "stream",
     "text": [
      "[{'label': 'LABEL_1', 'score': 0.9780123829841614}]\n"
     ]
    }
   ],
   "source": [
    "!pip install -q transformers torch\n",
    "from transformers import pipeline\n",
    "\n",
    "# Load the sentiment analysis pipeline with the specified model\n",
    "model_name = \"XerOpred/twitter-climate-sentiment-model\"\n",
    "classifier = pipeline('sentiment-analysis', model=model_name)\n",
    "\n",
    "text = \"Climate change is a pressing issue that needs immediate attention.\"\n",
    "\n",
    "# Get sentiment prediction\n",
    "result = classifier(text)\n",
    "\n",
    "# Print the result\n",
    "print(result)"
   ]
  },
  {
   "cell_type": "code",
   "execution_count": null,
   "id": "baebd5de",
   "metadata": {},
   "outputs": [],
   "source": []
  }
 ],
 "metadata": {
  "kernelspec": {
   "display_name": "Python 3 (ipykernel)",
   "language": "python",
   "name": "python3"
  },
  "language_info": {
   "codemirror_mode": {
    "name": "ipython",
    "version": 3
   },
   "file_extension": ".py",
   "mimetype": "text/x-python",
   "name": "python",
   "nbconvert_exporter": "python",
   "pygments_lexer": "ipython3",
   "version": "3.11.4"
  }
 },
 "nbformat": 4,
 "nbformat_minor": 5
}
